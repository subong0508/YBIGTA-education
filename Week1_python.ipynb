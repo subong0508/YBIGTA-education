{
 "cells": [
  {
   "cell_type": "markdown",
   "metadata": {
    "id": "hlLZDTh90DEd"
   },
   "source": [
    "## 과제 1\n",
    "\n",
    "1. 특정 자연수가 소수인지 아닌지 판별해서 True 또는 False를 반환하는 'isPrime'메소드를 만들어주세요.\n",
    "\n",
    "\n",
    "2. if문, for문을 사용해주세요.\n",
    "\n",
    "\n",
    "3. '%' 연산자는 나머지를 계산해줍니다.\n",
    "\n",
    "\n",
    "    ex) 3 % 2 = 1, 12 % 5 = 2\n",
    "    \n",
    "    \n",
    "4. 'isPrime' 메소드를 완성한 후에 '결과확인 셀'을 실행 했을 때 True가 나오면 성공입니다!!"
   ]
  },
  {
   "cell_type": "code",
   "execution_count": 37,
   "metadata": {
    "id": "3qF78RiB0DEd"
   },
   "outputs": [],
   "source": [
    "# pass를 지우고 필요한 코드를 작성해주세요\n",
    "def isPrime(n):\n",
    "    i = 2\n",
    "    while i*i <= n:\n",
    "        if n % i == 0:\n",
    "            return False\n",
    "        i += 1\n",
    "    return True"
   ]
  },
  {
   "cell_type": "code",
   "execution_count": 38,
   "metadata": {
    "id": "ah5n3pLm0DEd"
   },
   "outputs": [
    {
     "data": {
      "text/plain": [
       "True"
      ]
     },
     "execution_count": 38,
     "metadata": {},
     "output_type": "execute_result"
    }
   ],
   "source": [
    "# '결과확인 셀'입니다!! 클래스를 완성하고 실행해주세요!!\n",
    "isPrime(8191)"
   ]
  },
  {
   "cell_type": "markdown",
   "metadata": {
    "id": "UvU1Zh9Q0DEd"
   },
   "source": [
    "## 과제 2\n",
    "\n",
    "1. 'Point' 라는 이름의 클래스를 만들어 주세요.\n",
    "\n",
    "\n",
    "2. 'Point' 클래스는 0이 아닌 정수 x와 y를 인스턴스 변수를 생성자에 입력 받습니다.\n",
    "\n",
    "\n",
    "3. 'Point' 클래스는 x와 y 값을 참조해 자신이 어느 사분면에 위치하는지 print 해주는 'position'메소드가 있습니다.\n",
    "\n",
    "\n",
    "    (x > 0, y > 0)이면 1사분면, (x > 0, y < 0)이면 4사분면 입니다.\n",
    "    \n",
    "4. 'Point' 클래스를 완성하고 '결과확인 셀'을 실행 했을 때 '2사분면'이 print 되면 성공입니다!!"
   ]
  },
  {
   "cell_type": "code",
   "execution_count": 39,
   "metadata": {
    "id": "9DfbZwEV0DEe"
   },
   "outputs": [],
   "source": [
    "class Point:\n",
    "    # pass를 지우고 클래스를 완성해주세요!!\n",
    "    def __init__(self, x, y):\n",
    "        self.x = x\n",
    "        self.y = y\n",
    "    \n",
    "    def position(self):\n",
    "        if self.x > 0 and self.y > 0:\n",
    "            print(\"1사분면\")\n",
    "        elif self.x < 0 and self.y > 0:\n",
    "            print(\"2사분면\")\n",
    "        elif self.x < 0 and self.y < 0:\n",
    "            print(\"3사분면\")\n",
    "        elif self.x > 0 and self.y < 0:\n",
    "            print(\"4사분면\")\n",
    "        else:\n",
    "            print(\"x축 또는 y축\")"
   ]
  },
  {
   "cell_type": "code",
   "execution_count": 40,
   "metadata": {
    "id": "ZPkgLe_30DEe"
   },
   "outputs": [
    {
     "name": "stdout",
     "output_type": "stream",
     "text": [
      "2사분면\n"
     ]
    }
   ],
   "source": [
    "# '결과확인 셀'입니다!! 클래스를 완성하고 실행해주세요!!\n",
    "point = Point(-2, 4)\n",
    "point.position()"
   ]
  },
  {
   "cell_type": "markdown",
   "metadata": {
    "id": "ZlOfrwFB0DEe"
   },
   "source": [
    "## 과제 제출\n",
    "\n",
    "1. 문제를 풀고 구글 드라이브의 과제제출 폴더에 업로드 해주시면 됩니다.\n",
    "\n",
    "\n",
    "2. 파일명은 '18기_학과_이름'으로 해주시면 됩니다.\n",
    "\n",
    "\n",
    "### 수고하셨습니다!!"
   ]
  }
 ],
 "metadata": {
  "colab": {
   "name": "jupyter_notebook.ipynb",
   "provenance": []
  },
  "kernelspec": {
   "display_name": "Python 3",
   "language": "python",
   "name": "python3"
  },
  "language_info": {
   "codemirror_mode": {
    "name": "ipython",
    "version": 3
   },
   "file_extension": ".py",
   "mimetype": "text/x-python",
   "name": "python",
   "nbconvert_exporter": "python",
   "pygments_lexer": "ipython3",
   "version": "3.7.6"
  }
 },
 "nbformat": 4,
 "nbformat_minor": 1
}
