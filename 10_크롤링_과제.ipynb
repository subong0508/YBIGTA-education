{
 "cells": [
  {
   "cell_type": "code",
   "execution_count": 22,
   "id": "impossible-cemetery",
   "metadata": {},
   "outputs": [],
   "source": [
    "import requests\n",
    "from bs4 import BeautifulSoup"
   ]
  },
  {
   "cell_type": "code",
   "execution_count": 23,
   "id": "comfortable-encounter",
   "metadata": {},
   "outputs": [],
   "source": [
    "url = \"https://search.naver.com/search.naver?query=%EC%A0%9C%EC%A3%BC%EB%8F%84&where=news&ie=utf8&sm=nws_hty\"\n",
    "raw = requests.get(url, headers={'User-Agent': 'Mozilla/5.0'})\n",
    "soup = BeautifulSoup(raw.text, \"html.parser\")"
   ]
  },
  {
   "cell_type": "code",
   "execution_count": 24,
   "id": "velvet-multiple",
   "metadata": {},
   "outputs": [],
   "source": [
    "news1 = soup.select('#sp_nws1')[0]"
   ]
  },
  {
   "cell_type": "code",
   "execution_count": 25,
   "id": "realistic-boulder",
   "metadata": {},
   "outputs": [
    {
     "name": "stdout",
     "output_type": "stream",
     "text": [
      "      BBS NEWS3시간 전 2021학년도 제주도 임용후보자 최종합격자 발표   제주도교육청이 2021학년도 제주도 공립 유치원⸱초등학교⸱특수학교 교사 임용시험 최종합격자를 오늘(2일) 발표했습니다. 최종합격자는 총 105명으로 유치원 교사 19명, 초등학교 교사 (일반) 65명, (장애) 1명...      뉴스제주6시간 전 제주도교육청, '2021년 교사 임용후보자' 합격자 발표     제주매일10시간 전 제주도교육청, 공립학교 교사 임용 최종합격자 발표  \n"
     ]
    }
   ],
   "source": [
    "print(news1.text)"
   ]
  },
  {
   "cell_type": "code",
   "execution_count": null,
   "id": "agreed-montreal",
   "metadata": {},
   "outputs": [],
   "source": []
  }
 ],
 "metadata": {
  "kernelspec": {
   "display_name": "Python 3",
   "language": "python",
   "name": "python3"
  },
  "language_info": {
   "codemirror_mode": {
    "name": "ipython",
    "version": 3
   },
   "file_extension": ".py",
   "mimetype": "text/x-python",
   "name": "python",
   "nbconvert_exporter": "python",
   "pygments_lexer": "ipython3",
   "version": "3.7.6"
  }
 },
 "nbformat": 4,
 "nbformat_minor": 5
}
