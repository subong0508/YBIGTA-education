{
 "cells": [
  {
   "cell_type": "markdown",
   "metadata": {},
   "source": [
    "# import libs, load data"
   ]
  },
  {
   "cell_type": "code",
   "execution_count": 1,
   "metadata": {},
   "outputs": [
    {
     "name": "stdout",
     "output_type": "stream",
     "text": [
      "Downloading http://yann.lecun.com/exdb/mnist/train-images-idx3-ubyte.gz to ../data/MNIST/MNIST/raw/train-images-idx3-ubyte.gz\n"
     ]
    },
    {
     "data": {
      "application/vnd.jupyter.widget-view+json": {
       "model_id": "99c0bd5a951b487baecd30f5eac592d7",
       "version_major": 2,
       "version_minor": 0
      },
      "text/plain": [
       "HBox(children=(HTML(value=''), FloatProgress(value=1.0, bar_style='info', layout=Layout(width='20px'), max=1.0…"
      ]
     },
     "metadata": {},
     "output_type": "display_data"
    },
    {
     "name": "stdout",
     "output_type": "stream",
     "text": [
      "Extracting ../data/MNIST/MNIST/raw/train-images-idx3-ubyte.gz to ../data/MNIST/MNIST/raw\n",
      "Downloading http://yann.lecun.com/exdb/mnist/train-labels-idx1-ubyte.gz to ../data/MNIST/MNIST/raw/train-labels-idx1-ubyte.gz\n"
     ]
    },
    {
     "data": {
      "application/vnd.jupyter.widget-view+json": {
       "model_id": "f5fbdc738abf4ac697c6d135c5a1753c",
       "version_major": 2,
       "version_minor": 0
      },
      "text/plain": [
       "HBox(children=(HTML(value=''), FloatProgress(value=1.0, bar_style='info', layout=Layout(width='20px'), max=1.0…"
      ]
     },
     "metadata": {},
     "output_type": "display_data"
    },
    {
     "name": "stdout",
     "output_type": "stream",
     "text": [
      "Extracting ../data/MNIST/MNIST/raw/train-labels-idx1-ubyte.gz to ../data/MNIST/MNIST/raw\n",
      "Downloading http://yann.lecun.com/exdb/mnist/t10k-images-idx3-ubyte.gz to ../data/MNIST/MNIST/raw/t10k-images-idx3-ubyte.gz\n",
      "\n"
     ]
    },
    {
     "data": {
      "application/vnd.jupyter.widget-view+json": {
       "model_id": "4c0c0c55e26a46f0a4730060a09e274d",
       "version_major": 2,
       "version_minor": 0
      },
      "text/plain": [
       "HBox(children=(HTML(value=''), FloatProgress(value=1.0, bar_style='info', layout=Layout(width='20px'), max=1.0…"
      ]
     },
     "metadata": {},
     "output_type": "display_data"
    },
    {
     "name": "stdout",
     "output_type": "stream",
     "text": [
      "Extracting ../data/MNIST/MNIST/raw/t10k-images-idx3-ubyte.gz to ../data/MNIST/MNIST/raw\n",
      "Downloading http://yann.lecun.com/exdb/mnist/t10k-labels-idx1-ubyte.gz to ../data/MNIST/MNIST/raw/t10k-labels-idx1-ubyte.gz\n"
     ]
    },
    {
     "data": {
      "application/vnd.jupyter.widget-view+json": {
       "model_id": "3069d94d6243444fa032454cde2ac8bf",
       "version_major": 2,
       "version_minor": 0
      },
      "text/plain": [
       "HBox(children=(HTML(value=''), FloatProgress(value=1.0, bar_style='info', layout=Layout(width='20px'), max=1.0…"
      ]
     },
     "metadata": {},
     "output_type": "display_data"
    },
    {
     "name": "stdout",
     "output_type": "stream",
     "text": [
      "Extracting ../data/MNIST/MNIST/raw/t10k-labels-idx1-ubyte.gz to ../data/MNIST/MNIST/raw\n",
      "Processing...\n",
      "Done!\n"
     ]
    },
    {
     "name": "stderr",
     "output_type": "stream",
     "text": [
      "/Users/jaeunjung/opt/anaconda3/envs/pytorch/lib/python3.6/site-packages/torchvision/datasets/mnist.py:480: UserWarning: The given NumPy array is not writeable, and PyTorch does not support non-writeable tensors. This means you can write to the underlying (supposedly non-writeable) NumPy array using the tensor. You may want to copy the array to protect its data or make it writeable before converting it to a tensor. This type of warning will be suppressed for the rest of this program. (Triggered internally at  /Users/distiller/project/conda/conda-bld/pytorch_1603729183814/work/torch/csrc/utils/tensor_numpy.cpp:141.)\n",
      "  return torch.from_numpy(parsed.astype(m[2], copy=False)).view(*s)\n"
     ]
    }
   ],
   "source": [
    "import torch\n",
    "import torch.nn.functional as F\n",
    "from torch import nn, optim\n",
    "from torch.utils.data import DataLoader\n",
    "from torchvision import transforms, datasets\n",
    "\n",
    "# reproducibility\n",
    "torch.set_deterministic(True)\n",
    "torch.manual_seed(0)\n",
    "\n",
    "BATCH_SIZE = 64\n",
    "\n",
    "# resize: LeNet accepts 32 x 32 \n",
    "train_dataset = datasets.MNIST(root='../data/MNIST',\n",
    "                               train=True,\n",
    "                               download=True,\n",
    "                               transform=transforms.Compose([transforms.ToTensor(),\n",
    "                                                            transforms.Resize((32, 32))]))\n",
    "test_dataset = datasets.MNIST(root='../data/MNIST',\n",
    "                              train=False,\n",
    "                              download=True,\n",
    "                              transform=transforms.Compose([transforms.ToTensor(),\n",
    "                                                            transforms.Resize((32, 32))]))\n",
    "\n",
    "train_loader = DataLoader(dataset=train_dataset,\n",
    "                          batch_size=BATCH_SIZE,\n",
    "                          shuffle=True)\n",
    "test_loader = DataLoader(dataset=test_dataset,\n",
    "                          batch_size=BATCH_SIZE,\n",
    "                          shuffle=False)"
   ]
  },
  {
   "cell_type": "markdown",
   "metadata": {},
   "source": [
    "# LeNet5"
   ]
  },
  {
   "cell_type": "code",
   "execution_count": 2,
   "metadata": {},
   "outputs": [
    {
     "name": "stdout",
     "output_type": "stream",
     "text": [
      "\n"
     ]
    }
   ],
   "source": [
    "class LeNet5(nn.Module):\n",
    "    def __init__(self, finetune, mu=0, sigma=0.1):\n",
    "        super(LeNet5, self).__init__()\n",
    "        self.mu = mu\n",
    "        self.sigma = sigma\n",
    "        self.conv1 = nn.Conv2d(1, 6, (5, 5)) \n",
    "        self.max_pool1 = nn.MaxPool2d((2, 2))\n",
    "        self.conv2 = nn.Conv2d(6, 16, (5, 5))\n",
    "        self.max_pool2 = nn.MaxPool2d((2, 2))\n",
    "        self.fc1 = nn.Linear(400, 120)\n",
    "        self.fc2 = nn.Linear(120, 84)\n",
    "        self.fc3 = nn.Linear(84, 10)\n",
    "        # weight initialization\n",
    "        self._init_weight()\n",
    "        \n",
    "    def _init_weight(self):\n",
    "        for conv in [self.conv1, self.conv2]:\n",
    "            torch.nn.init.trunc_normal_(conv.weight, self.mu, self.sigma)\n",
    "            torch.nn.init.zeros_(conv.bias)\n",
    "        for fc in [self.fc1, self.fc2, self.fc3]:\n",
    "            torch.nn.init.trunc_normal_(fc.weight, self.mu, self.sigma)\n",
    "            torch.nn.init.zeros_(fc.bias)\n",
    "        \n",
    "    def forward(self, x):\n",
    "        out = F.relu(self.conv1(x))\n",
    "        out = self.max_pool1(out)\n",
    "        out = F.relu(self.conv2(out))\n",
    "        out = self.max_pool2(out)\n",
    "        out = out.view(out.shape[0], -1)\n",
    "        out = F.relu(self.fc1(out))\n",
    "        out = F.relu(self.fc2(out))\n",
    "        out = self.fc3(out)\n",
    "        return out"
   ]
  },
  {
   "cell_type": "markdown",
   "metadata": {},
   "source": [
    "# Necessary Functions"
   ]
  },
  {
   "cell_type": "code",
   "execution_count": 3,
   "metadata": {},
   "outputs": [],
   "source": [
    "# train func\n",
    "def train(model, train_loader, loss_list, optimizer, criterion, log_interval=400):\n",
    "    model.train()\n",
    "    train_loss = 0\n",
    "    \n",
    "    for batch_idx, (image, label) in enumerate(train_loader):\n",
    "        output = model(image)\n",
    "        optimizer.zero_grad()\n",
    "        loss = criterion(output, label)\n",
    "        loss.backward()\n",
    "        optimizer.step()\n",
    "        train_loss += loss.item()\n",
    "        loss_list.append(loss.item())\n",
    "        \n",
    "        if batch_idx % log_interval == 0:\n",
    "            print(\"Batch Idx: {}/{}, Train Loss: {:.6f}\".format(batch_idx, len(train_loader), loss.item()))\n",
    "        \n",
    "    train_loss /= len(train_loader)\n",
    "    \n",
    "    return train_loss\n",
    "\n",
    "# evaluate(test) func\n",
    "def evaluate(model, test_loader, criterion):\n",
    "    model.eval()\n",
    "    val_loss = 0\n",
    "    correct = 0\n",
    "    \n",
    "    for image, label in test_loader:\n",
    "        with torch.no_grad():\n",
    "            output = model(image)\n",
    "            val_loss += criterion(output, label).item()\n",
    "            pred = torch.max(output, 1)[1]\n",
    "            correct += (pred==label).sum().item()\n",
    "    \n",
    "    val_loss /= len(test_loader)\n",
    "    acc = (correct/len(test_loader.dataset))*100\n",
    "    \n",
    "    return val_loss, acc"
   ]
  },
  {
   "cell_type": "markdown",
   "metadata": {},
   "source": [
    "# Train"
   ]
  },
  {
   "cell_type": "code",
   "execution_count": 4,
   "metadata": {},
   "outputs": [
    {
     "name": "stdout",
     "output_type": "stream",
     "text": [
      "LeNet5(\n",
      "  (conv1): Conv2d(1, 6, kernel_size=(5, 5), stride=(1, 1))\n",
      "  (max_pool1): MaxPool2d(kernel_size=(2, 2), stride=(2, 2), padding=0, dilation=1, ceil_mode=False)\n",
      "  (conv2): Conv2d(6, 16, kernel_size=(5, 5), stride=(1, 1))\n",
      "  (max_pool2): MaxPool2d(kernel_size=(2, 2), stride=(2, 2), padding=0, dilation=1, ceil_mode=False)\n",
      "  (fc1): Linear(in_features=400, out_features=120, bias=True)\n",
      "  (fc2): Linear(in_features=120, out_features=84, bias=True)\n",
      "  (fc3): Linear(in_features=84, out_features=10, bias=True)\n",
      ")\n"
     ]
    }
   ],
   "source": [
    "# init\n",
    "model_origin = LeNet5(finetune=False)\n",
    "optimizer_origin = optim.Adam(model_origin.parameters())\n",
    "criterion = nn.CrossEntropyLoss()\n",
    "\n",
    "print(model_origin)"
   ]
  },
  {
   "cell_type": "code",
   "execution_count": 5,
   "metadata": {},
   "outputs": [
    {
     "name": "stdout",
     "output_type": "stream",
     "text": [
      "Batch Idx: 0/938, Train Loss: 2.356592\n",
      "Batch Idx: 400/938, Train Loss: 0.123616\n",
      "Batch Idx: 800/938, Train Loss: 0.038984\n",
      "Epoch: 1, Train Loss: 0.221470\n",
      "==================================================\n",
      "Batch Idx: 0/938, Train Loss: 0.041801\n",
      "Batch Idx: 400/938, Train Loss: 0.082240\n",
      "Batch Idx: 800/938, Train Loss: 0.061273\n",
      "Epoch: 2, Train Loss: 0.068302\n",
      "==================================================\n",
      "Batch Idx: 0/938, Train Loss: 0.013224\n",
      "Batch Idx: 400/938, Train Loss: 0.049334\n",
      "Batch Idx: 800/938, Train Loss: 0.071718\n",
      "Epoch: 3, Train Loss: 0.050021\n",
      "==================================================\n",
      "Batch Idx: 0/938, Train Loss: 0.022275\n",
      "Batch Idx: 400/938, Train Loss: 0.024211\n",
      "Batch Idx: 800/938, Train Loss: 0.083071\n",
      "Epoch: 4, Train Loss: 0.040342\n",
      "==================================================\n",
      "Batch Idx: 0/938, Train Loss: 0.017178\n",
      "Batch Idx: 400/938, Train Loss: 0.016958\n",
      "Batch Idx: 800/938, Train Loss: 0.011800\n",
      "Epoch: 5, Train Loss: 0.032254\n",
      "==================================================\n",
      "Batch Idx: 0/938, Train Loss: 0.002418\n",
      "Batch Idx: 400/938, Train Loss: 0.006253\n",
      "Batch Idx: 800/938, Train Loss: 0.012672\n",
      "Epoch: 6, Train Loss: 0.027776\n",
      "==================================================\n",
      "Batch Idx: 0/938, Train Loss: 0.007485\n",
      "Batch Idx: 400/938, Train Loss: 0.079277\n",
      "Batch Idx: 800/938, Train Loss: 0.001089\n",
      "Epoch: 7, Train Loss: 0.022602\n",
      "==================================================\n",
      "Batch Idx: 0/938, Train Loss: 0.005496\n",
      "Batch Idx: 400/938, Train Loss: 0.010759\n",
      "Batch Idx: 800/938, Train Loss: 0.017453\n",
      "Epoch: 8, Train Loss: 0.018661\n",
      "==================================================\n",
      "Batch Idx: 0/938, Train Loss: 0.002968\n",
      "Batch Idx: 400/938, Train Loss: 0.000103\n",
      "Batch Idx: 800/938, Train Loss: 0.007528\n",
      "Epoch: 9, Train Loss: 0.017205\n",
      "==================================================\n",
      "Batch Idx: 0/938, Train Loss: 0.004742\n",
      "Batch Idx: 400/938, Train Loss: 0.006367\n",
      "Batch Idx: 800/938, Train Loss: 0.000441\n",
      "Epoch: 10, Train Loss: 0.015598\n",
      "==================================================\n"
     ]
    }
   ],
   "source": [
    "EPOCHS = 10\n",
    "train_losses_origin = []\n",
    "for epoch in range(1, EPOCHS+1):\n",
    "    loss = train(model_origin, train_loader, train_losses_origin, optimizer_origin, criterion)\n",
    "    print(\"Epoch: {}, Train Loss: {:.6f}\".format(epoch, loss))\n",
    "    print(\"=\" * 50)"
   ]
  },
  {
   "cell_type": "code",
   "execution_count": 6,
   "metadata": {},
   "outputs": [
    {
     "name": "stdout",
     "output_type": "stream",
     "text": [
      "Validation Loss: 0.032983, Validation Accuracy: 98.970000%\n"
     ]
    }
   ],
   "source": [
    "val_loss, val_acc = evaluate(model_origin, test_loader, criterion)\n",
    "print(\"Validation Loss: {:.6f}, Validation Accuracy: {:.6f}%\".format(val_loss, val_acc))"
   ]
  },
  {
   "cell_type": "code",
   "execution_count": null,
   "metadata": {},
   "outputs": [],
   "source": []
  },
  {
   "cell_type": "code",
   "execution_count": null,
   "metadata": {},
   "outputs": [],
   "source": []
  }
 ],
 "metadata": {
  "kernelspec": {
   "display_name": "Python 3",
   "language": "python",
   "name": "python3"
  },
  "language_info": {
   "codemirror_mode": {
    "name": "ipython",
    "version": 3
   },
   "file_extension": ".py",
   "mimetype": "text/x-python",
   "name": "python",
   "nbconvert_exporter": "python",
   "pygments_lexer": "ipython3",
   "version": "3.6.12"
  }
 },
 "nbformat": 4,
 "nbformat_minor": 4
}
